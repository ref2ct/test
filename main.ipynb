{
 "cells": [
  {
   "cell_type": "code",
   "execution_count": 2,
   "metadata": {},
   "outputs": [
    {
     "name": "stdout",
     "output_type": "stream",
     "text": [
      "Oi Felipe!\n"
     ]
    }
   ],
   "source": [
    "print(\"Oi Felipe!\")"
   ]
  },
  {
   "cell_type": "code",
   "execution_count": 3,
   "metadata": {},
   "outputs": [
    {
     "name": "stdout",
     "output_type": "stream",
     "text": [
      "Shutdown is not requested\n"
     ]
    }
   ],
   "source": [
    "import os\n",
    "shutdown = input(\"Do you want to shutdown your computer (yes / no): \")\n",
    "if shutdown == 'yes':\n",
    "    os.system(\"shutdown /s /t 1\")\n",
    "else:\n",
    "    print('Shutdown is not requested')                                               "
   ]
  },
  {
   "cell_type": "code",
   "execution_count": 1,
   "metadata": {},
   "outputs": [
    {
     "name": "stdout",
     "output_type": "stream",
     "text": [
      "pygame 2.3.0 (SDL 2.24.2, Python 3.11.3)\n",
      "Hello from the pygame community. https://www.pygame.org/contribute.html\n"
     ]
    },
    {
     "ename": "error",
     "evalue": "display Surface quit",
     "output_type": "error",
     "traceback": [
      "\u001b[1;31m---------------------------------------------------------------------------\u001b[0m",
      "\u001b[1;31merror\u001b[0m                                     Traceback (most recent call last)",
      "Cell \u001b[1;32mIn[1], line 127\u001b[0m\n\u001b[0;32m    123\u001b[0m     pygame\u001b[39m.\u001b[39mquit()\n\u001b[0;32m    124\u001b[0m     quit()\n\u001b[1;32m--> 127\u001b[0m gameLoop()\n",
      "Cell \u001b[1;32mIn[1], line 64\u001b[0m, in \u001b[0;36mgameLoop\u001b[1;34m()\u001b[0m\n\u001b[0;32m     61\u001b[0m \u001b[39mwhile\u001b[39;00m \u001b[39mnot\u001b[39;00m game_over:\n\u001b[0;32m     63\u001b[0m     \u001b[39mwhile\u001b[39;00m game_close \u001b[39m==\u001b[39m \u001b[39mTrue\u001b[39;00m:\n\u001b[1;32m---> 64\u001b[0m         dis\u001b[39m.\u001b[39;49mfill(blue)\n\u001b[0;32m     65\u001b[0m         message(\u001b[39m\"\u001b[39m\u001b[39mYou Lost! Press C-Play Again or Q-Quit\u001b[39m\u001b[39m\"\u001b[39m, red)\n\u001b[0;32m     66\u001b[0m         Your_score(Length_of_snake \u001b[39m-\u001b[39m \u001b[39m1\u001b[39m)\n",
      "\u001b[1;31merror\u001b[0m: display Surface quit"
     ]
    },
    {
     "ename": "",
     "evalue": "",
     "output_type": "error",
     "traceback": [
      "\u001b[1;31mThe Kernel crashed while executing code in the the current cell or a previous cell. Please review the code in the cell(s) to identify a possible cause of the failure. Click <a href='https://aka.ms/vscodeJupyterKernelCrash'>here</a> for more info. View Jupyter <a href='command:jupyter.viewOutput'>log</a> for further details."
     ]
    }
   ],
   "source": [
    "import pygame\n",
    "import time\n",
    "import random\n",
    " \n",
    "pygame.init()\n",
    " \n",
    "white = (255, 255, 255)\n",
    "yellow = (255, 255, 102)\n",
    "black = (0, 0, 0)\n",
    "red = (213, 50, 80)\n",
    "green = (0, 255, 0)\n",
    "blue = (50, 153, 213)\n",
    " \n",
    "dis_width = 600\n",
    "dis_height = 400\n",
    " \n",
    "dis = pygame.display.set_mode((dis_width, dis_height))\n",
    "pygame.display.set_caption('Snake Game by Edureka')\n",
    " \n",
    "clock = pygame.time.Clock()\n",
    " \n",
    "snake_block = 10\n",
    "snake_speed = 15\n",
    " \n",
    "font_style = pygame.font.SysFont(\"bahnschrift\", 25)\n",
    "score_font = pygame.font.SysFont(\"comicsansms\", 35)\n",
    " \n",
    " \n",
    "def Your_score(score):\n",
    "    value = score_font.render(\"Your Score: \" + str(score), True, yellow)\n",
    "    dis.blit(value, [0, 0])\n",
    " \n",
    " \n",
    " \n",
    "def our_snake(snake_block, snake_list):\n",
    "    for x in snake_list:\n",
    "        pygame.draw.rect(dis, black, [x[0], x[1], snake_block, snake_block])\n",
    " \n",
    " \n",
    "def message(msg, color):\n",
    "    mesg = font_style.render(msg, True, color)\n",
    "    dis.blit(mesg, [dis_width / 6, dis_height / 3])\n",
    " \n",
    " \n",
    "def gameLoop():\n",
    "    game_over = False\n",
    "    game_close = False\n",
    " \n",
    "    x1 = dis_width / 2\n",
    "    y1 = dis_height / 2\n",
    " \n",
    "    x1_change = 0\n",
    "    y1_change = 0\n",
    " \n",
    "    snake_List = []\n",
    "    Length_of_snake = 1\n",
    " \n",
    "    foodx = round(random.randrange(0, dis_width - snake_block) / 10.0) * 10.0\n",
    "    foody = round(random.randrange(0, dis_height - snake_block) / 10.0) * 10.0\n",
    " \n",
    "    while not game_over:\n",
    " \n",
    "        while game_close == True:\n",
    "            dis.fill(blue)\n",
    "            message(\"You Lost! Press C-Play Again or Q-Quit\", red)\n",
    "            Your_score(Length_of_snake - 1)\n",
    "            pygame.display.update()\n",
    " \n",
    "            for event in pygame.event.get():\n",
    "                if event.type == pygame.KEYDOWN:\n",
    "                    if event.key == pygame.K_q:\n",
    "                        game_over = True\n",
    "                        game_close = False\n",
    "                    if event.key == pygame.K_c:\n",
    "                        gameLoop()\n",
    " \n",
    "        for event in pygame.event.get():\n",
    "            if event.type == pygame.QUIT:\n",
    "                game_over = True\n",
    "            if event.type == pygame.KEYDOWN:\n",
    "                if event.key == pygame.K_LEFT:\n",
    "                    x1_change = -snake_block\n",
    "                    y1_change = 0\n",
    "                elif event.key == pygame.K_RIGHT:\n",
    "                    x1_change = snake_block\n",
    "                    y1_change = 0\n",
    "                elif event.key == pygame.K_UP:\n",
    "                    y1_change = -snake_block\n",
    "                    x1_change = 0\n",
    "                elif event.key == pygame.K_DOWN:\n",
    "                    y1_change = snake_block\n",
    "                    x1_change = 0\n",
    " \n",
    "        if x1 >= dis_width or x1 < 0 or y1 >= dis_height or y1 < 0:\n",
    "            game_close = True\n",
    "        x1 += x1_change\n",
    "        y1 += y1_change\n",
    "        dis.fill(blue)\n",
    "        pygame.draw.rect(dis, green, [foodx, foody, snake_block, snake_block])\n",
    "        snake_Head = []\n",
    "        snake_Head.append(x1)\n",
    "        snake_Head.append(y1)\n",
    "        snake_List.append(snake_Head)\n",
    "        if len(snake_List) > Length_of_snake:\n",
    "            del snake_List[0]\n",
    " \n",
    "        for x in snake_List[:-1]:\n",
    "            if x == snake_Head:\n",
    "                game_close = True\n",
    " \n",
    "        our_snake(snake_block, snake_List)\n",
    "        Your_score(Length_of_snake - 1)\n",
    " \n",
    "        pygame.display.update()\n",
    " \n",
    "        if x1 == foodx and y1 == foody:\n",
    "            foodx = round(random.randrange(0, dis_width - snake_block) / 10.0) * 10.0\n",
    "            foody = round(random.randrange(0, dis_height - snake_block) / 10.0) * 10.0\n",
    "            Length_of_snake += 1\n",
    " \n",
    "        clock.tick(snake_speed)\n",
    " \n",
    "    pygame.quit()\n",
    "    quit()\n",
    " \n",
    " \n",
    "gameLoop()"
   ]
  }
 ],
 "metadata": {
  "kernelspec": {
   "display_name": "Python 3",
   "language": "python",
   "name": "python3"
  },
  "language_info": {
   "codemirror_mode": {
    "name": "ipython",
    "version": 3
   },
   "file_extension": ".py",
   "mimetype": "text/x-python",
   "name": "python",
   "nbconvert_exporter": "python",
   "pygments_lexer": "ipython3",
   "version": "3.11.3"
  },
  "orig_nbformat": 4,
  "vscode": {
   "interpreter": {
    "hash": "644799021e03ec676f07033328af69f700276a48f0737fc414b5f857c63b765f"
   }
  }
 },
 "nbformat": 4,
 "nbformat_minor": 2
}
